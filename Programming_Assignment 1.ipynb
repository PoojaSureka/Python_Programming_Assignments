{
 "cells": [
  {
   "attachments": {},
   "cell_type": "markdown",
   "metadata": {},
   "source": [
    "1. Write a Python program to print &quot;Hello Python&quot;?"
   ]
  },
  {
   "cell_type": "code",
   "execution_count": 28,
   "metadata": {},
   "outputs": [
    {
     "name": "stdout",
     "output_type": "stream",
     "text": [
      "Hello Python\n"
     ]
    }
   ],
   "source": [
    "A = \"Hello Python\"\n",
    "print(A)"
   ]
  },
  {
   "attachments": {},
   "cell_type": "markdown",
   "metadata": {},
   "source": [
    "2. Write a Python program to do arithmetical operations addition and division.?"
   ]
  },
  {
   "cell_type": "code",
   "execution_count": 29,
   "metadata": {},
   "outputs": [
    {
     "name": "stdout",
     "output_type": "stream",
     "text": [
      "Addition of two numbers A: 40 and B: 20 is 60\n",
      "Division of two numbers A: 40 and B: 20 is 2.0\n"
     ]
    }
   ],
   "source": [
    "A = 40\n",
    "B = 20\n",
    "addition = A+B\n",
    "division = A/B\n",
    "\n",
    "print(f\"Addition of two numbers A: {A} and B: {B} is {addition}\")\n",
    "print(f\"Division of two numbers A: {A} and B: {B} is {division}\")"
   ]
  },
  {
   "attachments": {},
   "cell_type": "markdown",
   "metadata": {},
   "source": [
    "3. Write a Python program to find the area of a triangle?"
   ]
  },
  {
   "cell_type": "code",
   "execution_count": 33,
   "metadata": {},
   "outputs": [
    {
     "name": "stdout",
     "output_type": "stream",
     "text": [
      "base: 100\n",
      "height: 100\n",
      "Area of the triangle is 5000.0\n"
     ]
    }
   ],
   "source": [
    "base = int(input(\"Enter the base of the triangle: \"))\n",
    "height = int(input(\"Enter the height of the triangle:\"))\n",
    "print(f\"base: {base}\")\n",
    "print(f\"height: {height}\")\n",
    "Area = 1/2*(base*height)\n",
    "\n",
    "print(f\"Area of the triangle is {Area}\")"
   ]
  },
  {
   "attachments": {},
   "cell_type": "markdown",
   "metadata": {},
   "source": [
    "4. Write a Python program to swap two variables?"
   ]
  },
  {
   "cell_type": "code",
   "execution_count": 31,
   "metadata": {},
   "outputs": [
    {
     "name": "stdout",
     "output_type": "stream",
     "text": [
      "value of x before swapping: 2\n",
      "value of y before swapping: 10\n",
      "The value of x after swapping: 10\n",
      "The value of y after swapping: 2\n"
     ]
    }
   ],
   "source": [
    "x = 2\n",
    "y = 10\n",
    "print(f\"value of x before swapping: {x}\")\n",
    "print(f\"value of y before swapping: {y}\")\n",
    "\n",
    "swap = x\n",
    "x = y\n",
    "y = swap\n",
    "\n",
    "print(f\"The value of x after swapping: {x}\")\n",
    "print(f\"The value of y after swapping: {y}\")"
   ]
  },
  {
   "attachments": {},
   "cell_type": "markdown",
   "metadata": {},
   "source": [
    "5. Write a Python program to generate a random number?"
   ]
  },
  {
   "cell_type": "code",
   "execution_count": 32,
   "metadata": {},
   "outputs": [
    {
     "name": "stdout",
     "output_type": "stream",
     "text": [
      "5\n"
     ]
    }
   ],
   "source": [
    "import random\n",
    "\n",
    "print(random.randint(0,9))"
   ]
  },
  {
   "cell_type": "code",
   "execution_count": null,
   "metadata": {},
   "outputs": [],
   "source": []
  }
 ],
 "metadata": {
  "kernelspec": {
   "display_name": "Python 3",
   "language": "python",
   "name": "python3"
  },
  "language_info": {
   "codemirror_mode": {
    "name": "ipython",
    "version": 3
   },
   "file_extension": ".py",
   "mimetype": "text/x-python",
   "name": "python",
   "nbconvert_exporter": "python",
   "pygments_lexer": "ipython3",
   "version": "3.11.2"
  },
  "orig_nbformat": 4
 },
 "nbformat": 4,
 "nbformat_minor": 2
}
