{
 "cells": [
  {
   "attachments": {},
   "cell_type": "markdown",
   "metadata": {},
   "source": [
    "1. Write a Python program to convert kilometers to miles?"
   ]
  },
  {
   "cell_type": "code",
   "execution_count": 28,
   "metadata": {},
   "outputs": [
    {
     "name": "stdout",
     "output_type": "stream",
     "text": [
      "Value after converting kilometers: 4.0 into miles is: 2.485484\n"
     ]
    }
   ],
   "source": [
    "kilometers = float(input(\"Enter the value in Kiometer: \"))\n",
    "\n",
    "conversion_factor = 0.621371\n",
    "\n",
    "miles = kilometers * conversion_factor\n",
    "\n",
    "print(f\"Value after converting kilometers: {kilometers} into miles is: {miles}\")"
   ]
  },
  {
   "attachments": {},
   "cell_type": "markdown",
   "metadata": {},
   "source": [
    "2. Write a Python program to convert Celsius to Fahrenheit?"
   ]
  },
  {
   "cell_type": "code",
   "execution_count": 29,
   "metadata": {},
   "outputs": [
    {
     "name": "stdout",
     "output_type": "stream",
     "text": [
      "The value of Celsius: 40.3 after converting into Fahrenheit is: 104.53999999999999 \n"
     ]
    }
   ],
   "source": [
    "Celsius = float(input(\"Enter the value of Celsius: \"))\n",
    "\n",
    "Fahrenheit = (Celsius *1.8) + 32\n",
    "\n",
    "print(f\"The value of Celsius: {Celsius} after converting into Fahrenheit is: {Fahrenheit} \")\n"
   ]
  },
  {
   "attachments": {},
   "cell_type": "markdown",
   "metadata": {},
   "source": [
    "3. Write a Python program to display calendar?"
   ]
  },
  {
   "cell_type": "code",
   "execution_count": 30,
   "metadata": {},
   "outputs": [
    {
     "name": "stdout",
     "output_type": "stream",
     "text": [
      "     April 2023\n",
      "Mo Tu We Th Fr Sa Su\n",
      "                1  2\n",
      " 3  4  5  6  7  8  9\n",
      "10 11 12 13 14 15 16\n",
      "17 18 19 20 21 22 23\n",
      "24 25 26 27 28 29 30\n",
      "\n"
     ]
    }
   ],
   "source": [
    "import calendar\n",
    "\n",
    "year = int(input(\"Enter a year: \"))\n",
    "month = int(input(\"Enter a month: \"))\n",
    "\n",
    "print(calendar.month(year,month))"
   ]
  },
  {
   "attachments": {},
   "cell_type": "markdown",
   "metadata": {},
   "source": [
    "4. Write a Python program to solve quadratic equation?"
   ]
  },
  {
   "cell_type": "code",
   "execution_count": 35,
   "metadata": {},
   "outputs": [
    {
     "name": "stdout",
     "output_type": "stream",
     "text": [
      "The value of a:1\n",
      "The value of b:2\n",
      "The value of c:6\n",
      "Ans of solution_1: (-1-2.23606797749979j)\n",
      "Ans of solution_2: (-1+2.23606797749979j)\n"
     ]
    }
   ],
   "source": [
    "import cmath\n",
    "\n",
    "a = int(input(\"Enter the value of a:\"))\n",
    "print(f\"The value of a:{a}\")\n",
    "b = int(input(\"Enter the value of b:\"))\n",
    "print(f\"The value of b:{b}\")\n",
    "c = int(input(\"Enter the value of c:\"))\n",
    "print(f\"The value of c:{c}\")\n",
    "\n",
    "d = (b**2)-(4*a*c)\n",
    "\n",
    "solution_1 = (-b-cmath.sqrt(d))/(2*a)\n",
    "solution_2 = (-b+cmath.sqrt(d))/(2*a)\n",
    "\n",
    "print(f\"Ans of solution_1: {solution_1}\")\n",
    "print(f\"Ans of solution_2: {solution_2}\")"
   ]
  },
  {
   "attachments": {},
   "cell_type": "markdown",
   "metadata": {},
   "source": [
    "5. Write a Python program to swap two variables without temp variable?"
   ]
  },
  {
   "cell_type": "code",
   "execution_count": 32,
   "metadata": {},
   "outputs": [
    {
     "name": "stdout",
     "output_type": "stream",
     "text": [
      "Before swapping the value of x:2 and value of y:7\n",
      "x=2, y=7\n",
      "After swapping the value of x:7 and the value of y:2\n",
      "x=7, y=2\n"
     ]
    }
   ],
   "source": [
    "x = int(input(\"Enter the value of x:\"))\n",
    "y = int(input(\"Enter the value of y:\"))\n",
    "print(f\"Before swapping the value of x:{x} and value of y:{y}\")\n",
    "print(f\"x={x}, y={y}\")\n",
    "x,y = y,x\n",
    "print(f\"After swapping the value of x:{x} and the value of y:{y}\")\n",
    "print(f\"x={x}, y={y}\")"
   ]
  },
  {
   "cell_type": "code",
   "execution_count": null,
   "metadata": {},
   "outputs": [],
   "source": []
  }
 ],
 "metadata": {
  "kernelspec": {
   "display_name": "Python 3",
   "language": "python",
   "name": "python3"
  },
  "language_info": {
   "codemirror_mode": {
    "name": "ipython",
    "version": 3
   },
   "file_extension": ".py",
   "mimetype": "text/x-python",
   "name": "python",
   "nbconvert_exporter": "python",
   "pygments_lexer": "ipython3",
   "version": "3.11.2"
  },
  "orig_nbformat": 4
 },
 "nbformat": 4,
 "nbformat_minor": 2
}
